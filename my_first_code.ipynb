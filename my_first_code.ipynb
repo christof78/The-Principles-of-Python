{
 "cells": [
  {
   "cell_type": "code",
   "execution_count": 1,
   "id": "4cd2dc30-f358-44b6-b362-588a47d860d1",
   "metadata": {},
   "outputs": [
    {
     "name": "stdout",
     "output_type": "stream",
     "text": [
      "My name is Christof King\n",
      "The date is 28th December 2024\n"
     ]
    }
   ],
   "source": [
    "#This is my first line of code\n",
    "print(\"My name is Christof King\")\n",
    "print(\"The date is 28th December 2024\")"
   ]
  },
  {
   "cell_type": "code",
   "execution_count": 9,
   "id": "0aa81a80-29a4-400a-91c3-49ef9d5c0d9c",
   "metadata": {},
   "outputs": [
    {
     "name": "stdout",
     "output_type": "stream",
     "text": [
      "182900\n",
      "36580.0\n",
      "60500\n"
     ]
    }
   ],
   "source": [
    "#Write a program to analyse real estate data\n",
    "a = 45000\n",
    "b = 23400\n",
    "c = 67000\n",
    "d = 34600\n",
    "e = 12900\n",
    "#find the total sales for the month\n",
    "print(a+b+c+d+e)\n",
    "#calculate the average sales price for the month\n",
    "print((a+b+c+d+e)/5)\n",
    "#find the missing value from the last column of the table\n",
    "print(c-6500)"
   ]
  },
  {
   "cell_type": "code",
   "execution_count": 7,
   "id": "d0cd6e89-0aed-490c-90cf-924fc1038809",
   "metadata": {},
   "outputs": [
    {
     "name": "stdout",
     "output_type": "stream",
     "text": [
      "182900\n",
      "36580.0\n",
      "60500\n"
     ]
    }
   ],
   "source": [
    "#Write a program to analyse real estate data\n",
    "a = 45000\n",
    "b = 23400\n",
    "c = 67000\n",
    "d = 34600\n",
    "e = 12900\n",
    "#find the total sales for the month\n",
    "total_sales = a+b+c+d+e\n",
    "print(total_sales)\n",
    "#calculate the average sales price for the month\n",
    "average_sales = (total_sales)/5\n",
    "print(average_sales)\n",
    "#find the missing value from the last column of the table\n",
    "property_price_c = c-6500\n",
    "print(property_price_c)"
   ]
  },
  {
   "cell_type": "code",
   "execution_count": null,
   "id": "d0614ef9-4760-44c0-969d-d0a2336e35d6",
   "metadata": {},
   "outputs": [],
   "source": []
  }
 ],
 "metadata": {
  "kernelspec": {
   "display_name": "Python [conda env:base] *",
   "language": "python",
   "name": "conda-base-py"
  },
  "language_info": {
   "codemirror_mode": {
    "name": "ipython",
    "version": 3
   },
   "file_extension": ".py",
   "mimetype": "text/x-python",
   "name": "python",
   "nbconvert_exporter": "python",
   "pygments_lexer": "ipython3",
   "version": "3.12.4"
  }
 },
 "nbformat": 4,
 "nbformat_minor": 5
}
